{
  "nbformat": 4,
  "nbformat_minor": 0,
  "metadata": {
    "colab": {
      "provenance": [],
      "include_colab_link": true
    },
    "kernelspec": {
      "name": "python3",
      "display_name": "Python 3"
    },
    "language_info": {
      "name": "python"
    }
  },
  "cells": [
    {
      "cell_type": "markdown",
      "metadata": {
        "id": "view-in-github",
        "colab_type": "text"
      },
      "source": [
        "<a href=\"https://colab.research.google.com/github/parkseokyung/LA2/blob/main/%5B02%5D_transform_tiefighter_202210917(1).ipynb\" target=\"_parent\"><img src=\"https://colab.research.google.com/assets/colab-badge.svg\" alt=\"Open In Colab\"/></a>"
      ]
    },
    {
      "cell_type": "markdown",
      "source": [
        "### 라이브러리 선언"
      ],
      "metadata": {
        "id": "VcKvO8KcJ9AJ"
      }
    },
    {
      "cell_type": "code",
      "source": [
        "import numpy as np\n",
        "import matplotlib.pyplot as plt\n",
        "from matplotlib.patches import Polygon\n",
        "\n",
        "INF = 1000  # 그림판 크기\n",
        "LEN = 100   # 처음 사각형의 크기"
      ],
      "metadata": {
        "id": "uwkBDldBERem"
      },
      "execution_count": null,
      "outputs": []
    },
    {
      "cell_type": "markdown",
      "source": [
        "### 축 그리기 및 사각형 그리기"
      ],
      "metadata": {
        "id": "eSiS-XHya1FY"
      }
    },
    {
      "cell_type": "code",
      "source": [
        "def draw_axis(ax):\n",
        "  ax.axhline(0, color='black', alpha=0.3)  # x-axis line\n",
        "  ax.axvline(0, color='black', alpha=0.3)  # y-axis line\n",
        "  ax.set_xlim(-INF, INF)\n",
        "  ax.set_ylim(-INF, INF)\n",
        "  ax.set_aspect('equal')  # 정사각형 모양으로 backboard 그리기"
      ],
      "metadata": {
        "id": "_fc5wJBeKXDN"
      },
      "execution_count": null,
      "outputs": []
    },
    {
      "cell_type": "code",
      "source": [
        "def draw_rectangle(ax, p1, p2, p3, p4):\n",
        "  my_polygon = Polygon([p1, p2, p3, p4])\n",
        "  ax.add_patch(my_polygon)"
      ],
      "metadata": {
        "id": "0XC7sFs9Hf3e"
      },
      "execution_count": null,
      "outputs": []
    },
    {
      "cell_type": "code",
      "source": [
        "def draw_object(ax):\n",
        "  p1 = np.array([0, 0])\n",
        "  p2 = np.array([LEN, 0])\n",
        "  p3 = np.array([LEN, LEN])\n",
        "  p4 = np.array([0, LEN])\n",
        "\n",
        "  draw_rectangle(ax, p1, p2, p3, p4)"
      ],
      "metadata": {
        "id": "9_fAE1_kPjsv"
      },
      "execution_count": null,
      "outputs": []
    },
    {
      "cell_type": "code",
      "source": [
        "# 그림판 선언 및 크기 설정\n",
        "#fig, ax = plt.subplots(figsize=(7,7))\n",
        "\n",
        "# 축 그리기\n",
        "#draw_axis(ax)\n",
        "\n",
        "# 물체 그리기\n",
        "#draw_object(ax)\n",
        "\n",
        "#plt.show()"
      ],
      "metadata": {
        "id": "L3r3ar9FQDKI"
      },
      "execution_count": null,
      "outputs": []
    },
    {
      "cell_type": "markdown",
      "source": [
        "### 본론\n",
        "#### 1. 변환 구현\n",
        "* translate(p, dx, dy)\n",
        "* rotate(p, theta)  \n",
        "* scale(p, sx, sy)  \n",
        "* shear_x(p, sx)  \n",
        "* shear_y(p, sy)  \n",
        "* reflect_x(p)  \n",
        "* reflect_y(p)   \n",
        "* ..."
      ],
      "metadata": {
        "id": "6txnl6M2PeUz"
      }
    },
    {
      "cell_type": "code",
      "source": [
        "# 점 p를 x축 방향으로 dx만큼, y축 방향으로 dy만큼 이동시킨 점 q를 구할 것\n",
        "# q = T(dx, dy) p1\n",
        "def translate(p, dx, dy):\n",
        "  # 1. 동차좌표계 (homogeneous coordinate)으로 변환\n",
        "  hp = np.array([p[0], p[1], 1.0])\n",
        "\n",
        "  # 2. 이동 변환 행렬 생성\n",
        "  m = np.array([[1.0, 0.0, dx], [0.0, 1.0, dy], [0.0, 0.0, 1.0]])\n",
        "  \n",
        "  # 3. 행렬과 벡터의 곱\n",
        "  hq = np.dot(m, hp)  # (3,3) x (3,1) -> (3,1)\n",
        "  \n",
        "\n",
        "  # 4. 2차원 좌표계로 변환\n",
        "  hq = np.array([hq[0], hq[1]])\n",
        "  return hq\n",
        "# 점 p를 theta만큼 회전시킨 점 q를 구할 것\n",
        "\n",
        "def rotate(p, theta):\n",
        "  # 1. 동차좌표계 (homogeneous coordinate)으로 변환\n",
        "  hp = np.array([p[0], p[1], 1.0])\n",
        "\n",
        "  # 2. 회전 변환 행렬 생성\n",
        "  m = np.array([[np.cos(theta), - np.sin(theta), 0.0], [np.sin(theta), np.cos(theta), 0.0], [0.0, 0.0, 1.0]])\n",
        "\n",
        "  # 3. 행렬과 벡터 곱\n",
        "  hq = np.dot(m, hp)\n",
        "\n",
        "  # 4. 2차원 좌표계로 변환\n",
        "  hq = np.array([hq[0], hq[1]])\n",
        "  return hq\n",
        "\n",
        "# 점 p를 x축 방향으로 sx, y축 방향으로 sy만큼 키울 것\n",
        "def scale(p, sx, sy):\n",
        "  # 1. 동차좌표계 (homogeneous coordinate)으로 변환\n",
        "  hp = np.array([p[0], p[1], 1.0])\n",
        "\n",
        "  # 2. 크기 변환 행렬 생성\n",
        "  m = np.array([[sx, 0.0, 0.0], [0.0, sy, 0.0], [0.0, 0.0, 1.0]])\n",
        "\n",
        "  # 3. 행렬과 벡터의 곱\n",
        "  hq = np.dot(m, hp)\n",
        "\n",
        "  # 4. 2차원 좌표계로 변환\n",
        "  hq = np.array([hq[0], hq[1]])\n",
        "  return hq\n",
        "\n",
        "# 점 p를 x축 방향으로 sx만큼 기울일 것\n",
        "def shear_x(p, sx):\n",
        "  # 1. 동차좌표계 (homogeneous coordinate)으로 변환\n",
        "  hp = np.array([p[0], p[1], 1.0])\n",
        "\n",
        "  # 2. 기울기 변환 행렬 생성\n",
        "  m = np.array([[1.0, sx, 0.0], [0.0, 1.0, 0.0], [0.0, 0.0, 1.0]])\n",
        "\n",
        "  # 3. 행령과 벡터의 곱\n",
        "  hq = np.dot(m, hp)\n",
        "\n",
        "  # 4. 2차원 좌표계로 변환\n",
        "  hq = np.array([hq[0], hq[1]])\n",
        "  return hq\n",
        "\n",
        "# 점 p를 y축 방향으로 sy만큼 기울일 것\n",
        "def shear_y(p, sy):\n",
        "  # 1. 동차좌표계 (homogeneous coordinate)으로 변환\n",
        "  hp = np.array([p[0], p[1], 1.0])\n",
        "\n",
        "  # 2. 기울기 변환 행렬 생성\n",
        "  m = np.array([[1.0, 0.0, 0.0], [sy, 1.0, 0.0], [0.0, 0.0, 1.0]])\n",
        "\n",
        "  # 3. 행렬과 벡터의 곱\n",
        "  hq = np.dot(m, hp)\n",
        "\n",
        "  # 4. 2차원 좌표계로 변환\n",
        "  hq = np.array([hq[0], hq[1]])\n",
        "  return hq\n",
        "\n",
        "# 점 p를 x축에 대해 반전시킬 것\n",
        "def reflect_x(p):\n",
        "  # 1. 동차좌표계 (homogeneous coordinate)으로 변환\n",
        "  hp = np.array([p[0], p[1], 1.0])\n",
        "\n",
        "  # 2. 반전 변환 행렬 생성\n",
        "  m = np.array([[1.0, 0.0, 0.0], [0.0, -1.0, 0.0], [0.0, 0.0, 1.0]])\n",
        "\n",
        "  # 3. 행렬렬과 벡터의 곱\n",
        "  hq = np.dot(m, hp)\n",
        "\n",
        "  # 4. 2차원 좌표계로 변환\n",
        "  hq = np.array([hq[0], hq[1]])\n",
        "  return hq\n",
        "\n",
        "# 점 p를 y축에 대해 반전시킬 것\n",
        "def reflect_y(p):\n",
        "  # 1. 동차좌표계 (homogeneous coordinate)으로 변환\n",
        "  hp = np.array([p[0], p[1], 1.0])\n",
        "\n",
        "  # 2. 반전 변환 행렬 생성\n",
        "  m = np.array([[-1.0, 0.0, 0.0], [0.0, 1.0, 0.0], [0.0, 0.0, 1.0]])\n",
        "\n",
        "  # 3. 행렬렬과 벡터의 곱\n",
        "  hq = np.dot(m, hp)\n",
        "\n",
        "  # 4. 2차원 좌표계로 변환\n",
        "  hq = np.array([hq[0], hq[1]])\n",
        "  return hq"
      ],
      "metadata": {
        "id": "g1iKgeNoP-Bu"
      },
      "execution_count": null,
      "outputs": []
    },
    {
      "cell_type": "markdown",
      "source": [
        "#### 2. 파트 그리기\n",
        "* draw_cockpit(p1, p2, p3, p4)    # 중앙 조종석\n",
        "* draw_left_arm(p1, p2, p3, p4)   # 왼쪽 날개축\n",
        "* draw_left_wing(p1, p2, p3, p4)  # 왼쪽 날개\n",
        "* draw_right_arm(p1, p2, p3, p4)  # 오른쪽 날개축\n",
        "* draw_right_wing(p1, p2, p3, p4) # 오른쪽 날개"
      ],
      "metadata": {
        "id": "E_jHSezpTC-9"
      }
    },
    {
      "cell_type": "code",
      "source": [
        "def draw_cockpit(ax, p1, p2, p3, p4):  # 중앙 조종석\n",
        "  # 1. 사각형을 원점으로 이동 변환: T(-LEN/2, -LEN/2)\n",
        "  # q = T(-LEN/2, -LEN/2)p\n",
        "  q1 = translate(p1, -LEN/2, -LEN/2)\n",
        "  q2 = translate(p2, -LEN/2, -LEN/2)\n",
        "  q3 = translate(p3, -LEN/2, -LEN/2)\n",
        "  q4 = translate(p4, -LEN/2, -LEN/2)\n",
        "\n",
        "  \n",
        "  # 2. 크기 변환: S(5, 5)\n",
        "  s = 5\n",
        "  q1 = scale(q1, s, s)\n",
        "  q2 = scale(q2, s, s)\n",
        "  q3 = scale(q3, s, s)\n",
        "  q4 = scale(q4, s, s)\n",
        "  \n",
        "  # 3. 회전 변환: R(pi/4)\n",
        "  q1 = rotate(q1, 3.14/4.0)\n",
        "  q2 = rotate(q2, 3.14/4.0)\n",
        "  q3 = rotate(q3, 3.14/4.0)\n",
        "  q4 = rotate(q4, 3.14/4.0)\n",
        "  \n",
        "\n",
        "  # 4. polygon 그리기 \n",
        "  draw_rectangle(ax, q1, q2, q3, q4)\n",
        "\n",
        "def draw_left_arm(p1, p2, p3, p4): # 왼쪽 날개축\n",
        "  q1 = translate(p1, -LEN/2, -LEN/2)\n",
        "  q2 = translate(p2, -LEN/2, -LEN/2)\n",
        "  q3 = translate(p3, -LEN/2, -LEN/2)\n",
        "  q4 = translate(p4, -LEN/2, -LEN/2)\n",
        "  \n",
        "  sx = 10.0\n",
        "  sy = 1.0\n",
        "  q1 = scale(q1, sx, sy)\n",
        "  q2 = scale(q2, sx, sy)\n",
        "  q3 = scale(q3, sx, sy)\n",
        "  q4 = scale(q4, sx, sy)\n",
        "\n",
        "  theta = -3.14/25.0\n",
        "  q1 = rotate(q1, theta)\n",
        "  q2 = rotate(q2, theta)\n",
        "  q3 = rotate(q3, theta)\n",
        "  q4 = rotate(q4, theta)\n",
        "\n",
        "  q1 = translate(q1,-LEN*4, LEN/2 )\n",
        "  q2 = translate(q2,-LEN*4, LEN/2)\n",
        "  q3 = translate(q3,-LEN*4, LEN/2)\n",
        "  q4 = translate(q4,-LEN*4, LEN/2)\n",
        "\n",
        "  draw_rectangle(ax, q1, q2, q3, q4)\n",
        "\n",
        "  q1 = reflect_x(q1)\n",
        "  q2 = reflect_x(q2)\n",
        "  q3 = reflect_x(q3)\n",
        "  q4 = reflect_x(q4)\n",
        "\n",
        "  #q1 = reflect_y(q1)\n",
        "  #q2 = reflect_y(q2)\n",
        "  #q3 = reflect_y(q3)\n",
        "  #q4 = reflect_y(q4)\n",
        "\n",
        "  draw_rectangle(ax, q1, q2, q3, q4)\n",
        "\n",
        "def draw_left_wing(p1, p2, p3, p4): # 왼쪽 날개\n",
        "\n",
        "  q1 = translate(p1, -LEN/2, -LEN/2)\n",
        "  q2 = translate(p2, -LEN/2, -LEN/2)\n",
        "  q3 = translate(p3, -LEN/2, -LEN/2)\n",
        "  q4 = translate(p4, -LEN/2, -LEN/2)\n",
        " \n",
        "  sx = 1.0\n",
        "  sy = 8.0\n",
        "  q1 = scale(q1, sx, sy)\n",
        "  q2 = scale(q2, sx, sy)\n",
        "  q3 = scale(q3, sx, sy)\n",
        "  q4 = scale(q4, sx, sy)\n",
        "\n",
        "  sx = 2.0\n",
        "  q1 = shear_y(q1,sx)\n",
        "  q2 = shear_y(q2,sx)\n",
        "  q3 = shear_y(q3,sx)\n",
        "  q4 = shear_y(q4,sx)\n",
        "\n",
        "\n",
        "  q1 = translate(q1,LEN*8, 100.0)\n",
        "  q2 = translate(q2,LEN*8, 100.0)\n",
        "  q3 = translate(q3,LEN*8, 100.0)\n",
        "  q4 = translate(q4,LEN*8, 100.0)\n",
        "\n",
        "  draw_rectangle(ax, q1, q2, q3, q4) \n",
        "\n",
        "  q1 = reflect_x(q1)\n",
        "  q2 = reflect_x(q2)\n",
        "  q3 = reflect_x(q3)\n",
        "  q4 = reflect_x(q4)\n",
        "\n",
        "  \n",
        "  draw_rectangle(ax, q1, q2, q3, q4)\n",
        "\n",
        "def draw_right_arm(p1, p2, p3, p4): # 오른쪽 날개축\n",
        "  q1 = translate(p1, -LEN/2, -LEN/2)\n",
        "  q2 = translate(p2, -LEN/2, -LEN/2)\n",
        "  q3 = translate(p3, -LEN/2, -LEN/2)\n",
        "  q4 = translate(p4, -LEN/2, -LEN/2)\n",
        "  \n",
        "  sx = 10.0\n",
        "  sy = 1.0\n",
        "  q1 = scale(q1, sx, sy)\n",
        "  q2 = scale(q2, sx, sy)\n",
        "  q3 = scale(q3, sx, sy)\n",
        "  q4 = scale(q4, sx, sy)\n",
        "\n",
        "  theta = -3.14/25.0\n",
        "  q1 = rotate(q1, theta)\n",
        "  q2 = rotate(q2, theta)\n",
        "  q3 = rotate(q3, theta)\n",
        "  q4 = rotate(q4, theta)\n",
        "\n",
        "  q1 = translate(q1,-LEN*4, LEN/2 )\n",
        "  q2 = translate(q2,-LEN*4, LEN/2)\n",
        "  q3 = translate(q3,-LEN*4, LEN/2)\n",
        "  q4 = translate(q4,-LEN*4, LEN/2)\n",
        "\n",
        "  q1 = reflect_y(q1)\n",
        "  q2 = reflect_y(q2)\n",
        "  q3 = reflect_y(q3)\n",
        "  q4 = reflect_y(q4)\n",
        "\n",
        "  draw_rectangle(ax, q1, q2, q3, q4)\n",
        "\n",
        "  q1 = reflect_x(q1)\n",
        "  q2 = reflect_x(q2)\n",
        "  q3 = reflect_x(q3)\n",
        "  q4 = reflect_x(q4)\n",
        "\n",
        "  draw_rectangle(ax, q1, q2, q3, q4)\n",
        "\n",
        "def draw_right_wing(p1, p2, p3, p4): # 오른쪽 날개\n",
        "\n",
        "  q1 = translate(p1, -LEN/2, -LEN/2)\n",
        "  q2 = translate(p2, -LEN/2, -LEN/2)\n",
        "  q3 = translate(p3, -LEN/2, -LEN/2)\n",
        "  q4 = translate(p4, -LEN/2, -LEN/2)\n",
        " \n",
        "  sx = 1.0\n",
        "  sy = 8.0\n",
        "  q1 = scale(q1, sx, sy)\n",
        "  q2 = scale(q2, sx, sy)\n",
        "  q3 = scale(q3, sx, sy)\n",
        "  q4 = scale(q4, sx, sy)\n",
        "\n",
        "  sx = 2.0\n",
        "  q1 = shear_y(q1,sx)\n",
        "  q2 = shear_y(q2,sx)\n",
        "  q3 = shear_y(q3,sx)\n",
        "  q4 = shear_y(q4,sx)\n",
        "\n",
        "\n",
        "  q1 = translate(q1,LEN*8, LEN)\n",
        "  q2 = translate(q2,LEN*8, LEN)\n",
        "  q3 = translate(q3,LEN*8, LEN)\n",
        "  q4 = translate(q4,LEN*8, LEN)\n",
        " \n",
        "\n",
        "  q1 = reflect_y(q1)\n",
        "  q2 = reflect_y(q2)\n",
        "  q3 = reflect_y(q3)\n",
        "  q4 = reflect_y(q4)\n",
        "\n",
        "  \n",
        "  draw_rectangle(ax, q1, q2, q3, q4)\n",
        "  \n",
        "  #아래부분\n",
        "  q1 = reflect_x(q1)\n",
        "  q2 = reflect_x(q2)\n",
        "  q3 = reflect_x(q3)\n",
        "  q4 = reflect_x(q4)\n",
        "\n",
        "  #q1 = reflect_y(q1)\n",
        "  #q2 = reflect_y(q2)\n",
        "  #q3 = reflect_y(q3)\n",
        "  #q4 = reflect_y(q4)\n",
        "\n",
        "  draw_rectangle(ax, q1, q2, q3, q4)\n",
        "\n"
      ],
      "metadata": {
        "id": "6C7a4CH4HSj0"
      },
      "execution_count": null,
      "outputs": []
    },
    {
      "cell_type": "code",
      "execution_count": null,
      "metadata": {
        "id": "hMI0xB0pDlnU"
      },
      "outputs": [],
      "source": [
        "# 2. tiefigher 그리기\n",
        "def draw_object(ax):\n",
        "  p1 = np.array([0, 0])\n",
        "  p2 = np.array([LEN, 0])\n",
        "  p3 = np.array([LEN, LEN])\n",
        "  p4 = np.array([0, LEN])\n",
        "\n",
        "  draw_cockpit(ax, p1, p2, p3, p4)\n",
        "  draw_left_arm(p1, p2, p3, p4) # 왼쪽 날개축\n",
        "  draw_left_wing(p1, p2, p3, p4) # 왼쪽 날개\n",
        "  draw_right_arm(p1, p2, p3, p4) # 오른쪽 날개축\n",
        "  draw_right_wing(p1, p2, p3, p4) # 오른쪽 날개"
      ]
    },
    {
      "cell_type": "markdown",
      "source": [
        "### 3. main"
      ],
      "metadata": {
        "id": "24hO1zQaHiFJ"
      }
    },
    {
      "cell_type": "code",
      "source": [
        "# 그림판 선언 및 크기 설정\n",
        "fig, ax = plt.subplots(figsize=(7,7))\n",
        "\n",
        "# 축 그리기\n",
        "draw_axis(ax)\n",
        "\n",
        "# 물체 그리기\n",
        "draw_object(ax)\n",
        "\n",
        "plt.show()"
      ],
      "metadata": {
        "colab": {
          "base_uri": "https://localhost:8080/",
          "height": 605
        },
        "id": "1Bdz-KxWLLHb",
        "outputId": "5e9da24a-db56-4b66-915d-714eb1be8246"
      },
      "execution_count": null,
      "outputs": [
        {
          "output_type": "display_data",
          "data": {
            "text/plain": [
              "<Figure size 700x700 with 1 Axes>"
            ],
            "image/png": "[encoded data removed]"
          },
          "metadata": {}
        }
      ]
    }
  ]
}