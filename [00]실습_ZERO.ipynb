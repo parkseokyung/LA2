{
  "nbformat": 4,
  "nbformat_minor": 0,
  "metadata": {
    "colab": {
      "provenance": [],
      "mount_file_id": "1pUkc2yLvX3TvdU6XFNAoIxjZgiIHpdar",
      "authorship_tag": "ABX9TyOvykSXA7c2ypITN6uXO76y",
      "include_colab_link": true
    },
    "kernelspec": {
      "name": "python3",
      "display_name": "Python 3"
    },
    "language_info": {
      "name": "python"
    }
  },
  "cells": [
    {
      "cell_type": "markdown",
      "metadata": {
        "id": "view-in-github",
        "colab_type": "text"
      },
      "source": [
        "<a href=\"https://colab.research.google.com/github/parkseokyung/LA2/blob/main/%5B00%5D%EC%8B%A4%EC%8A%B5_ZERO.ipynb\" target=\"_parent\"><img src=\"https://colab.research.google.com/assets/colab-badge.svg\" alt=\"Open In Colab\"/></a>"
      ]
    },
    {
      "cell_type": "code",
      "execution_count": 1,
      "metadata": {
        "colab": {
          "base_uri": "https://localhost:8080/"
        },
        "id": "fgjwf6xA8lbY",
        "outputId": "0cc9710c-bfb3-4fb6-a0ee-2c8c9bca5414"
      },
      "outputs": [
        {
          "output_type": "stream",
          "name": "stdout",
          "text": [
            "Hello World\n"
          ]
        }
      ],
      "source": [
        "print(\"Hello World\")"
      ]
    },
    {
      "cell_type": "code",
      "source": [
        "import numpy as np"
      ],
      "metadata": {
        "id": "VeF9AypLKMH9"
      },
      "execution_count": 2,
      "outputs": []
    },
    {
      "cell_type": "markdown",
      "source": [
        "벡터, 행렬 연산, 그래프 그리기"
      ],
      "metadata": {
        "id": "7kA_H2VCKapf"
      }
    },
    {
      "cell_type": "code",
      "source": [
        "def print_val(x):\n",
        "  print(\"Type:\", type(x))\n",
        "  print(\"Shape:\",x.shape)\n",
        "  print(\"값: ₩n\", x)\n",
        "  print(\" \")"
      ],
      "metadata": {
        "id": "fF-Mbx9dKSMG"
      },
      "execution_count": 4,
      "outputs": []
    },
    {
      "cell_type": "code",
      "source": [
        "x = np.array([1,2,3])\n",
        "print_val(x)\n",
        "\n",
        "x[0] = 5\n",
        "print_val(x)"
      ],
      "metadata": {
        "colab": {
          "base_uri": "https://localhost:8080/"
        },
        "id": "ZqSzHXq1LJiq",
        "outputId": "6b3f0a1b-c2de-46bf-df67-a0623d0db5d9"
      },
      "execution_count": 5,
      "outputs": [
        {
          "output_type": "stream",
          "name": "stdout",
          "text": [
            "Type: <class 'numpy.ndarray'>\n",
            "Shape: (3,)\n",
            "값: ₩n [1 2 3]\n",
            " \n",
            "Type: <class 'numpy.ndarray'>\n",
            "Shape: (3,)\n",
            "값: ₩n [5 2 3]\n",
            " \n"
          ]
        }
      ]
    },
    {
      "cell_type": "code",
      "source": [
        "y = np.array([[1,2,3],[4,5,6]])\n",
        "print_val(y)"
      ],
      "metadata": {
        "colab": {
          "base_uri": "https://localhost:8080/"
        },
        "id": "6rqM2HC1LaOx",
        "outputId": "85ad5760-6c28-4859-b4bd-57051c8e160e"
      },
      "execution_count": 6,
      "outputs": [
        {
          "output_type": "stream",
          "name": "stdout",
          "text": [
            "Type: <class 'numpy.ndarray'>\n",
            "Shape: (2, 3)\n",
            "값: ₩n [[1 2 3]\n",
            " [4 5 6]]\n",
            " \n"
          ]
        }
      ]
    },
    {
      "cell_type": "code",
      "source": [
        "a = np.zeros((2,2))\n",
        "print_val(a)"
      ],
      "metadata": {
        "colab": {
          "base_uri": "https://localhost:8080/"
        },
        "id": "3yMF_obrLnC9",
        "outputId": "a0a4b9fd-f7f2-4e8b-a38f-130574f24463"
      },
      "execution_count": 7,
      "outputs": [
        {
          "output_type": "stream",
          "name": "stdout",
          "text": [
            "Type: <class 'numpy.ndarray'>\n",
            "Shape: (2, 2)\n",
            "값: ₩n [[0. 0.]\n",
            " [0. 0.]]\n",
            " \n"
          ]
        }
      ]
    },
    {
      "cell_type": "code",
      "source": [
        "a = np.ones((3,2))\n",
        "print_val(a)"
      ],
      "metadata": {
        "colab": {
          "base_uri": "https://localhost:8080/"
        },
        "id": "4VP627feLzZd",
        "outputId": "fc73fe31-2f4c-43bd-cbf5-473f0a0ac18d"
      },
      "execution_count": 8,
      "outputs": [
        {
          "output_type": "stream",
          "name": "stdout",
          "text": [
            "Type: <class 'numpy.ndarray'>\n",
            "Shape: (3, 2)\n",
            "값: ₩n [[1. 1.]\n",
            " [1. 1.]\n",
            " [1. 1.]]\n",
            " \n"
          ]
        }
      ]
    },
    {
      "cell_type": "code",
      "source": [
        "a = np.eye(3,3)\n",
        "print_val(a)"
      ],
      "metadata": {
        "colab": {
          "base_uri": "https://localhost:8080/"
        },
        "id": "-d14OEBXL4ZT",
        "outputId": "a63ab140-0dc2-455f-c1cb-a15517320ae3"
      },
      "execution_count": 10,
      "outputs": [
        {
          "output_type": "stream",
          "name": "stdout",
          "text": [
            "Type: <class 'numpy.ndarray'>\n",
            "Shape: (3, 3)\n",
            "값: ₩n [[1. 0. 0.]\n",
            " [0. 1. 0.]\n",
            " [0. 0. 1.]]\n",
            " \n"
          ]
        }
      ]
    },
    {
      "cell_type": "code",
      "source": [
        "a = np.random.random((4,4))\n",
        "print_val(a)"
      ],
      "metadata": {
        "colab": {
          "base_uri": "https://localhost:8080/"
        },
        "id": "bFh198qkMF-D",
        "outputId": "ad46bfa2-7bf4-4018-aa88-d0c7e2505653"
      },
      "execution_count": 11,
      "outputs": [
        {
          "output_type": "stream",
          "name": "stdout",
          "text": [
            "Type: <class 'numpy.ndarray'>\n",
            "Shape: (4, 4)\n",
            "값: ₩n [[0.4638604  0.06215565 0.63725401 0.33541105]\n",
            " [0.43539463 0.98857091 0.40669642 0.9381106 ]\n",
            " [0.93909321 0.94690727 0.95163305 0.83286298]\n",
            " [0.61908827 0.26720825 0.22835824 0.32440215]]\n",
            " \n"
          ]
        }
      ]
    },
    {
      "cell_type": "code",
      "source": [
        "a = np.random.randn(4,4)\n",
        "print_val(a)"
      ],
      "metadata": {
        "colab": {
          "base_uri": "https://localhost:8080/"
        },
        "id": "PG-B85eAMf_5",
        "outputId": "bc28f950-ca3a-45e3-ebae-b3031ff89d81"
      },
      "execution_count": 12,
      "outputs": [
        {
          "output_type": "stream",
          "name": "stdout",
          "text": [
            "Type: <class 'numpy.ndarray'>\n",
            "Shape: (4, 4)\n",
            "값: ₩n [[-1.20953532  0.31268459 -0.9441132   0.06515326]\n",
            " [-0.76278705 -0.1816397   1.84499721  0.90004583]\n",
            " [ 0.82497751 -1.54028119 -0.15428545  0.341759  ]\n",
            " [-1.31423808  0.65465005 -0.28113477  0.20861431]]\n",
            " \n"
          ]
        }
      ]
    },
    {
      "cell_type": "code",
      "source": [],
      "metadata": {
        "id": "P4B-Q7Z1MkxI"
      },
      "execution_count": null,
      "outputs": []
    }
  ]
}